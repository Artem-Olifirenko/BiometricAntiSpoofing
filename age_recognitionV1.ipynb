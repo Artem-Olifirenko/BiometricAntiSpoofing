{
 "cells": [
  {
   "cell_type": "markdown",
   "metadata": {},
   "source": [
    "<div style=\"border:solid Chocolate 2px; padding: 40px\">\n",
    "\n",
    "Привет, меня зовут Александр Куимов. Я буду ревьюером твоего проекта. Ты можешь обращаться ко мне на \"ты\"😏 Надеюсь, тебя также не смутит, если я буду обращаться к тебе на \"ты\", но если это неудобно, обязательно скажи об этом! \n",
    "\n",
    "Пожалуйста, не удаляй мои комментарии, они будут особенно полезны для нашей работы в случае повторной проверки проекта. \n",
    "\n",
    "Ты также можешь реагировать на мои комментарии своими по шаблону, показанному чуть ниже. Это нужно, чтобы не создавалась путаница😉\n",
    "\n",
    "Ты можешь найти мои комментарии, обозначенные <font color='green'>зеленым</font>, <font color='gold'>желтым</font> и <font color='red'>красным</font> цветами, например:\n",
    "\n",
    "<br/>\n",
    "\n",
    "<div class=\"alert alert-success\">\n",
    "<h2> Комментарий ревьюера <a class=\"tocSkip\"> </h2>\n",
    "\n",
    "<b>Все отлично!👍:</b> В случае, если решение на отдельном шаге является полностью правильным.\n",
    "</div>\n",
    "\n",
    "<br/>\n",
    "\n",
    "<div class=\"alert alert-warning\">\n",
    "    <h2> Комментарий ревьюера <a class=\"tocSkip\"> </h2>\n",
    "    \n",
    "<b>Некоторые замечания и рекомендации💡:</b> В случае, когда решение на отдельном шаге станет еще лучше, если внести небольшие коррективы.\n",
    "</div>\n",
    "\n",
    "\n",
    "<br/>\n",
    "<div class=\"alert alert-block alert-danger\">\n",
    "<h2> Комментарий ревьюера <a class=\"tocSkip\"></h2>\n",
    "\n",
    "    \n",
    "<b>На доработку🤔:</b>\n",
    " В случае, когда решение на отдельном шаге требует существенной переработки и внесения правок. Напоминаю, что проект не может быть принят с первого раза, если ревью содержит комментарии, рекомендующие доработать шаги.\n",
    "</div>\n",
    "    \n",
    "    \n",
    "<br/>    \n",
    "<div class=\"alert alert-info\">\n",
    "<h2> Комментарий студента: <a class=\"tocSkip\"> </h2>\n",
    "\n",
    "<b>👋:</b> В такой цветовой ячейке я прошу тебя оставлять свои комментарии. Если исправляешь проект на второй итерации и выше, не забывай пожалуйста указывать номер итерации, например, \"Комментарий студента v.2\".\n",
    "</div> \n",
    "\n",
    "<br/>    \n",
    "    \n",
    "Увидев у тебя неточность, в первый раз я лишь укажу на ее наличие и дам тебе возможность самому найти и исправить ее. На реальной работе твой руководитель будет поступать также, и я пытаюсь подготовить тебя именно к работе датасаентистом. Но если ты пока не справишься с такой задачей - при следующей проверке я дам более точную подсказку!🤓"
   ]
  },
  {
   "cell_type": "markdown",
   "metadata": {},
   "source": [
    "# Определение возраста покупателей"
   ]
  },
  {
   "cell_type": "markdown",
   "metadata": {},
   "source": [
    "<div class=\"alert alert-warning\">\n",
    "    <h2> Комментарий ревьюера <a class=\"tocSkip\"> </h2>\n",
    "    \n",
    "<b>Некоторые замечания и рекомендации💡:</b>  \n",
    "    \n",
    "Я бы посоветовал тебе подробнее раскрыть план своей работы. Это поможет тебе расставлять акценты в выводах."
   ]
  },
  {
   "cell_type": "markdown",
   "metadata": {},
   "source": [
    "## Исследовательский анализ данных"
   ]
  },
  {
   "cell_type": "code",
   "execution_count": 10,
   "metadata": {},
   "outputs": [],
   "source": [
    "# imports\n",
    "import pandas as pd\n",
    "import numpy as np\n",
    "from PIL import Image\n",
    "import matplotlib.pyplot as plt\n",
    "from tensorflow.keras.preprocessing.image import ImageDataGenerator"
   ]
  },
  {
   "cell_type": "code",
   "execution_count": 11,
   "metadata": {},
   "outputs": [
    {
     "name": "stdout",
     "output_type": "stream",
     "text": [
      "Found 7591 validated image filenames.\n"
     ]
    }
   ],
   "source": [
    "# data downloader\n",
    "try:\n",
    "    labels = pd.read_csv('/datasets/faces/labels.csv')\n",
    "except:\n",
    "    labels = pd.read_csv('https://code.s3.yandex.net/datasets/faces/labels.csv')\n",
    "finally:\n",
    "    train_datagen = ImageDataGenerator(rescale=1./255)\n",
    "    train_gen_flow = train_datagen.flow_from_dataframe(\n",
    "            dataframe=labels,\n",
    "            directory='/datasets/faces/final_files/',\n",
    "            x_col='file_name',\n",
    "            y_col='real_age',\n",
    "            target_size=(224, 224),\n",
    "            batch_size=32,\n",
    "            class_mode='raw',\n",
    "            seed=12345) "
   ]
  },
  {
   "cell_type": "code",
   "execution_count": 12,
   "metadata": {},
   "outputs": [
    {
     "name": "stdout",
     "output_type": "stream",
     "text": [
      "<class 'pandas.core.frame.DataFrame'>\n",
      "RangeIndex: 7591 entries, 0 to 7590\n",
      "Data columns (total 2 columns):\n",
      " #   Column     Non-Null Count  Dtype \n",
      "---  ------     --------------  ----- \n",
      " 0   file_name  7591 non-null   object\n",
      " 1   real_age   7591 non-null   int64 \n",
      "dtypes: int64(1), object(1)\n",
      "memory usage: 118.7+ KB\n"
     ]
    }
   ],
   "source": [
    "labels.info()"
   ]
  },
  {
   "cell_type": "markdown",
   "metadata": {},
   "source": [
    "<div class=\"alert alert-success\">\n",
    "<h2> Комментарий ревьюера <a class=\"tocSkip\"> </h2>\n",
    "\n",
    "<b>Все отлично!👍:</b> \n",
    "    \n",
    "Размер выборки выведен. Выборка относительно небольшая, но мы еще можем нарастить ее, применяя аугментации\n"
   ]
  },
  {
   "cell_type": "code",
   "execution_count": 20,
   "metadata": {},
   "outputs": [
    {
     "data": {
      "text/plain": [
       "file_name    0\n",
       "real_age     0\n",
       "dtype: int64"
      ]
     },
     "execution_count": 20,
     "metadata": {},
     "output_type": "execute_result"
    }
   ],
   "source": [
    "labels.isna().sum()"
   ]
  },
  {
   "cell_type": "code",
   "execution_count": 31,
   "metadata": {},
   "outputs": [
    {
     "data": {
      "image/png": "[encoded data removed]",
      "text/plain": [
       "<Figure size 648x504 with 1 Axes>"
      ]
     },
     "metadata": {
      "needs_background": "light"
     },
     "output_type": "display_data"
    }
   ],
   "source": [
    "# labels['real_age'].hist(bins=15)\n",
    "# plt.title='pics';\n",
    "\n",
    "plt.figure(figsize=(9, 7))\n",
    "# plt.title()\n",
    "plt.xlabel('Возраст')\n",
    "plt.ylabel('Количество')\n",
    "plt.grid(True)\n",
    "plt.hist(labels['real_age'], bins=30)\n",
    "plt.show();"
   ]
  },
  {
   "cell_type": "markdown",
   "metadata": {},
   "source": [
    "<br/>\n",
    "<div class=\"alert alert-block alert-danger\">\n",
    "<h2> Комментарий ревьюера <a class=\"tocSkip\"></h2>\n",
    "    \n",
    "<b>На доработку🤔:</b> \n",
    "    \n",
    "Гистограмма целевого признака выведена. Раз у нас 100 различных возрастов, то и корзин можно указать столько же.\n",
    "        \n",
    "Пики в районе \"юбилейных\" лет, они тут могут быть связаны с тем, что настоящий возраст был неизвестен тому, кто размечал датасет, и он попросту округлял его. Важно еще поработать над оформлением графика (должно быть название горизонтальной оси, вертикальной оси и самого графика)"
   ]
  },
  {
   "cell_type": "code",
   "execution_count": 42,
   "metadata": {},
   "outputs": [
    {
     "data": {
      "text/plain": [
       "97"
      ]
     },
     "execution_count": 42,
     "metadata": {},
     "output_type": "execute_result"
    }
   ],
   "source": [
    "labels['real_age'].nunique()"
   ]
  },
  {
   "cell_type": "markdown",
   "metadata": {},
   "source": [
    "<div style=\"border:solid Chocolate 2px; padding: 40px\">\n",
    "\n",
    "\n",
    "<h2> Итоговый комментарий ревьюера <a class=\"tocSkip\"> </h2>    \n",
    "\n",
    "К сожалению, проект не готов. Присылай законченную версию, сейчас в проекте отсутствуют некоторые выполненные шаги по заданиям. \n",
    "    \n",
    "Подскажи пожалуйста, не доделанный проект был отправлен случайно? Тогда поправь его, пожалуйста, и возвращайся.\n",
    "    \n",
    "Или ты не понимаешь, как выполнить эти шаги? Тогда стоит обращаться за помощью к наставникам и преподавателям, а также комьюнити студентов.\n",
    "   \n",
    "    \n",
    "Жду от тебя новую версию проекта.    "
   ]
  },
  {
   "cell_type": "markdown",
   "metadata": {},
   "source": [
    "## Обучение модели"
   ]
  },
  {
   "cell_type": "markdown",
   "metadata": {},
   "source": [
    "Перенесите сюда код обучения модели и её результат вывода на экран.\n",
    "\n",
    "\n",
    "(Код в этом разделе запускается в отдельном GPU-тренажёре, поэтому оформлен не как ячейка с кодом, а как код в текстовой ячейке)"
   ]
  },
  {
   "cell_type": "markdown",
   "metadata": {},
   "source": [
    "```python\n",
    "\n",
    "# < скопируйте код сюда >\n",
    "\n",
    "```"
   ]
  },
  {
   "cell_type": "markdown",
   "metadata": {},
   "source": [
    "```\n",
    "\n",
    "# < скопируйте результат вывода на экран сюда >\n",
    "# < длинные строки со скачиванием модели можно удалить >\n",
    "\n",
    "```"
   ]
  },
  {
   "cell_type": "markdown",
   "metadata": {},
   "source": [
    "## Анализ обученной модели"
   ]
  },
  {
   "cell_type": "markdown",
   "metadata": {},
   "source": [
    "Напишите выводы здесь"
   ]
  },
  {
   "cell_type": "markdown",
   "metadata": {},
   "source": [
    "## Чек-лист"
   ]
  },
  {
   "cell_type": "markdown",
   "metadata": {},
   "source": [
    "- [x]  Jupyter Notebook открыт\n",
    "- [ ]  Весь код выполняется без ошибок\n",
    "- [ ]  Ячейки с кодом расположены в порядке исполнения\n",
    "- [ ]  Исследовательский анализ данных выполнен\n",
    "- [ ]  Результаты исследовательского анализа данных перенесены в финальную тетрадь\n",
    "- [ ]  MAE модели не больше 8\n",
    "- [ ]  Код обучения модели скопирован в финальную тетрадь\n",
    "- [ ]  Результат вывода модели на экран перенесён в финальную тетрадь\n",
    "- [ ]  По итогам обучения модели сделаны выводы"
   ]
  }
 ],
 "metadata": {
  "ExecuteTimeLog": [
   {
    "duration": 2958,
    "start_time": "2023-07-05T14:14:22.940Z"
   },
   {
    "duration": 113393,
    "start_time": "2023-07-05T14:14:53.294Z"
   },
   {
    "duration": 19,
    "start_time": "2023-07-05T14:16:46.689Z"
   },
   {
    "duration": 161,
    "start_time": "2023-07-05T14:16:46.929Z"
   },
   {
    "duration": 542,
    "start_time": "2023-07-05T14:18:44.723Z"
   },
   {
    "duration": 220,
    "start_time": "2023-07-05T14:19:33.870Z"
   },
   {
    "duration": 191,
    "start_time": "2023-07-05T14:19:43.872Z"
   },
   {
    "duration": 178,
    "start_time": "2023-07-05T14:19:58.585Z"
   },
   {
    "duration": 5,
    "start_time": "2023-07-05T14:20:21.053Z"
   },
   {
    "duration": 112709,
    "start_time": "2023-07-05T14:20:21.061Z"
   },
   {
    "duration": 14,
    "start_time": "2023-07-05T14:22:13.772Z"
   },
   {
    "duration": 210,
    "start_time": "2023-07-05T14:22:13.788Z"
   },
   {
    "duration": 352,
    "start_time": "2023-07-05T14:23:46.198Z"
   },
   {
    "duration": 179,
    "start_time": "2023-07-05T14:26:51.784Z"
   },
   {
    "duration": 168,
    "start_time": "2023-07-05T14:28:16.156Z"
   },
   {
    "duration": 206,
    "start_time": "2023-07-05T14:28:35.727Z"
   },
   {
    "duration": 172,
    "start_time": "2023-07-05T14:31:27.428Z"
   },
   {
    "duration": 157,
    "start_time": "2023-07-05T14:32:07.622Z"
   },
   {
    "duration": 11,
    "start_time": "2023-07-05T14:32:58.614Z"
   },
   {
    "duration": 224,
    "start_time": "2023-07-05T14:36:11.105Z"
   },
   {
    "duration": 172,
    "start_time": "2023-07-05T14:36:24.454Z"
   },
   {
    "duration": 192,
    "start_time": "2023-07-05T14:36:43.235Z"
   },
   {
    "duration": 17,
    "start_time": "2023-07-05T14:37:51.645Z"
   },
   {
    "duration": 23,
    "start_time": "2023-07-05T14:38:40.641Z"
   },
   {
    "duration": 24,
    "start_time": "2023-07-05T14:40:36.134Z"
   },
   {
    "duration": 31,
    "start_time": "2023-07-05T14:40:47.386Z"
   },
   {
    "duration": 40,
    "start_time": "2023-07-05T14:40:54.485Z"
   },
   {
    "duration": 255,
    "start_time": "2023-07-05T14:41:09.221Z"
   },
   {
    "duration": 212,
    "start_time": "2023-07-05T14:41:44.538Z"
   },
   {
    "duration": 207,
    "start_time": "2023-07-05T14:41:55.362Z"
   },
   {
    "duration": 6,
    "start_time": "2023-07-05T14:42:46.689Z"
   },
   {
    "duration": 5,
    "start_time": "2023-07-05T14:43:01.535Z"
   },
   {
    "duration": 16,
    "start_time": "2023-07-05T14:43:08.768Z"
   },
   {
    "duration": 19,
    "start_time": "2023-07-05T14:43:32.432Z"
   },
   {
    "duration": 22,
    "start_time": "2023-07-05T14:43:50.920Z"
   },
   {
    "duration": 24,
    "start_time": "2023-07-05T14:49:05.364Z"
   },
   {
    "duration": 43,
    "start_time": "2023-07-05T14:49:17.294Z"
   },
   {
    "duration": 26,
    "start_time": "2023-07-05T14:49:40.344Z"
   },
   {
    "duration": 4,
    "start_time": "2023-07-05T14:49:51.676Z"
   },
   {
    "duration": 5,
    "start_time": "2023-07-05T14:49:59.431Z"
   },
   {
    "duration": 6,
    "start_time": "2023-07-05T14:50:28.354Z"
   }
  ],
  "kernelspec": {
   "display_name": "Python 3 (ipykernel)",
   "language": "python",
   "name": "python3"
  },
  "language_info": {
   "codemirror_mode": {
    "name": "ipython",
    "version": 3
   },
   "file_extension": ".py",
   "mimetype": "text/x-python",
   "name": "python",
   "nbconvert_exporter": "python",
   "pygments_lexer": "ipython3",
   "version": "3.9.17"
  },
  "toc": {
   "base_numbering": 1,
   "nav_menu": {},
   "number_sections": true,
   "sideBar": true,
   "skip_h1_title": true,
   "title_cell": "Table of Contents",
   "title_sidebar": "Contents",
   "toc_cell": false,
   "toc_position": {
    "height": "calc(100% - 180px)",
    "left": "10px",
    "top": "150px",
    "width": "165px"
   },
   "toc_section_display": true,
   "toc_window_display": true
  }
 },
 "nbformat": 4,
 "nbformat_minor": 4
}
